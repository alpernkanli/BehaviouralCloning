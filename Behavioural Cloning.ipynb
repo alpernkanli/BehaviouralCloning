{
 "cells": [
  {
   "cell_type": "code",
   "execution_count": 12,
   "metadata": {
    "collapsed": false
   },
   "outputs": [],
   "source": [
    "import cv2\n",
    "import pandas as pd\n",
    "import numpy as np\n",
    "import json"
   ]
  },
  {
   "cell_type": "code",
   "execution_count": 13,
   "metadata": {
    "collapsed": false
   },
   "outputs": [],
   "source": [
    "from keras.layers.core import Dense, Flatten, Dropout\n",
    "from keras.layers.convolutional import Convolution2D\n",
    "from keras.layers.pooling import MaxPooling2D\n",
    "from keras.layers.advanced_activations import ELU\n",
    "from keras.models import Sequential\n",
    "from keras.optimizers import Adam"
   ]
  },
  {
   "cell_type": "code",
   "execution_count": 14,
   "metadata": {
    "collapsed": true
   },
   "outputs": [],
   "source": [
    "log = pd.read_csv('./data/driving_log.csv')"
   ]
  },
  {
   "cell_type": "code",
   "execution_count": 15,
   "metadata": {
    "collapsed": false
   },
   "outputs": [],
   "source": [
    "rows, cols, ch = 64, 64, 3\n",
    "batch_size = 100\n",
    "split_size = 0.1\n",
    "samples_per_epoch = (20000 // batch_size) * batch_size\n",
    "angle_offset = 0.25"
   ]
  },
  {
   "cell_type": "code",
   "execution_count": 16,
   "metadata": {
    "collapsed": false
   },
   "outputs": [],
   "source": [
    "log = log.sample(frac=1).reset_index(drop=True)\n",
    "\n",
    "training_data = log.loc[0:(log.shape[0]*(1.0-split_size)) - 1]\n",
    "validation_data = log.loc[log.shape[0]*(1.0-split_size):]"
   ]
  },
  {
   "cell_type": "code",
   "execution_count": 17,
   "metadata": {
    "collapsed": false
   },
   "outputs": [],
   "source": [
    "# For learning roads with different brightness\n",
    "def random_V(image, angle):\n",
    "    HSV_image = cv2.cvtColor(image, cv2.COLOR_RGB2HSV)\n",
    "    random_v = 0.25 + np.random.uniform()\n",
    "    HSV_image[:,:,2] = HSV_image[:,:,2]*random_v\n",
    "    image = cv2.cvtColor(HSV_image, cv2.COLOR_HSV2RGB)\n",
    "    return image, angle\n",
    "\n",
    "# For learning roads with different main color\n",
    "def random_H(image, angle):\n",
    "    HSV_image = cv2.cvtColor(image, cv2.COLOR_RGB2HSV)\n",
    "    random_h = 0.2 + np.random.uniform()\n",
    "    HSV_image[:,:,0] = HSV_image[:,:,0]*random_h\n",
    "    image = cv2.cvtColor(HSV_image, cv2.COLOR_HSV2RGB)\n",
    "    return image, angle\n",
    "\n",
    "# Because for a turn there could be more than one possible angle\n",
    "def angle_jitter(image, angle):\n",
    "    angle = angle + 0.05*(np.random.uniform() - 0.5)\n",
    "    return image, angle\n",
    "\n",
    "# To generate more data\n",
    "def random_flip(image, angle):\n",
    "    if np.random.random() > 0.4:\n",
    "        image = cv2.flip(image, 1)\n",
    "        angle = angle*(-1.0)\n",
    "    return image, angle"
   ]
  },
  {
   "cell_type": "code",
   "execution_count": 18,
   "metadata": {
    "collapsed": true
   },
   "outputs": [],
   "source": [
    "# 2 more image for every image.\n",
    "def augment_and_process(row):\n",
    "    angle = row['steering']\n",
    "    camera = np.random.choice(['center', 'left', 'right'])\n",
    "    \n",
    "    if camera == 'right':\n",
    "        angle -= angle_offset\n",
    "    elif camera == 'left':\n",
    "        angle += angle_offset\n",
    "    \n",
    "    path = row[camera]\n",
    "    datapath = './data/' + path\n",
    "    datapath = datapath.replace(\" \", \"\")\n",
    "    \n",
    "    image = cv2.imread(datapath)\n",
    "    image = cv2.cvtColor(image, cv2.COLOR_BGR2RGB)\n",
    "    \n",
    "    image, angle = random_V(image, angle)\n",
    "    image, angle = random_H(image, angle)\n",
    "    image, angle = angle_jitter(image, angle)\n",
    "    image, angle = random_flip(image, angle)\n",
    "    \n",
    "    image = image[55:135, 0:320]\n",
    "    image = cv2.resize(image, (cols, rows))\n",
    "    image = image.astype(np.float32)\n",
    "    image = image / 255.0 - 0.5\n",
    "    return image, angle"
   ]
  },
  {
   "cell_type": "code",
   "execution_count": 19,
   "metadata": {
    "collapsed": true
   },
   "outputs": [],
   "source": [
    "def batch_generator(data):\n",
    "    batch_count = data.shape[0] // batch_size\n",
    "    i = 0\n",
    "    while 1:\n",
    "        batch_features = np.zeros((batch_size, rows, cols, ch), dtype=np.float32)\n",
    "        batch_labels = np.zeros((batch_size,), dtype=np.float32)\n",
    "        \n",
    "        j = 0\n",
    "        for _, row in data.loc[i*batch_size: (i+1)*batch_size - 1].iterrows():\n",
    "            batch_features[j], batch_labels[j] = augment_and_process(row)\n",
    "            j += 1\n",
    "        \n",
    "        i += 1\n",
    "        if i == batch_count - 1:\n",
    "            i = 0\n",
    "        yield batch_features, batch_labels"
   ]
  },
  {
   "cell_type": "code",
   "execution_count": 20,
   "metadata": {
    "collapsed": false
   },
   "outputs": [],
   "source": [
    "def the_model():\n",
    "    model = Sequential()\n",
    "    \n",
    "    model.add(Convolution2D(32, 5, 5, subsample=(2, 2), border_mode='same', input_shape=(rows, cols, ch)))\n",
    "    model.add(ELU())\n",
    "    \n",
    "    model.add(Convolution2D(16, 3, 3, subsample=(1, 1), border_mode='valid'))\n",
    "    model.add(ELU())\n",
    "    model.add(Dropout(0.4))\n",
    "    model.add(MaxPooling2D((2, 2), border_mode='valid'))\n",
    "    \n",
    "    model.add(Convolution2D(16, 3, 3, subsample=(1, 1), border_mode='valid'))\n",
    "    model.add(ELU())\n",
    "    model.add(Dropout(0.4))\n",
    "    \n",
    "    model.add(Flatten())\n",
    "    model.add(Dense(1024, name='Dense0'))\n",
    "    model.add(Dropout(0.3))\n",
    "    model.add(ELU())\n",
    "    \n",
    "    model.add(Dense(512, name='Dense1'))\n",
    "    model.add(ELU())\n",
    "    \n",
    "    model.add(Dense(32, name='Dense2'))\n",
    "    model.add(ELU())\n",
    "    \n",
    "    model.add(Dense(1, name='Out'))\n",
    "    \n",
    "    model.compile(optimizer=\"adam\", loss=\"mse\")\n",
    "    return model"
   ]
  },
  {
   "cell_type": "code",
   "execution_count": 21,
   "metadata": {
    "collapsed": true
   },
   "outputs": [],
   "source": [
    "def save_parameters(m):\n",
    "    m.save_weights('model.h5')\n",
    "    json_file = open('model.json', mode='w')\n",
    "    json.dump(m.to_json(), json_file)"
   ]
  },
  {
   "cell_type": "code",
   "execution_count": 22,
   "metadata": {
    "collapsed": false
   },
   "outputs": [
    {
     "name": "stdout",
     "output_type": "stream",
     "text": [
      "Epoch 1/3\n",
      "20000/20000 [==============================] - 55s - loss: 0.0480 - val_loss: 0.0045\n",
      "Epoch 2/3\n",
      "20000/20000 [==============================] - 53s - loss: 0.0279 - val_loss: 0.0157\n",
      "Epoch 3/3\n",
      "20000/20000 [==============================] - 53s - loss: 0.0262 - val_loss: 0.0013\n"
     ]
    },
    {
     "data": {
      "text/plain": [
       "<keras.callbacks.History at 0x7fc87421f8d0>"
      ]
     },
     "execution_count": 22,
     "metadata": {},
     "output_type": "execute_result"
    }
   ],
   "source": [
    "model = the_model()\n",
    "\n",
    "model.fit_generator(batch_generator(training_data), \n",
    "                    samples_per_epoch= samples_per_epoch,\n",
    "                    nb_epoch=3,\n",
    "                    verbose=1,\n",
    "                    validation_data=batch_generator(validation_data),\n",
    "                    nb_val_samples=3000)"
   ]
  },
  {
   "cell_type": "code",
   "execution_count": 23,
   "metadata": {
    "collapsed": false
   },
   "outputs": [],
   "source": [
    "save_parameters(model)"
   ]
  },
  {
   "cell_type": "code",
   "execution_count": null,
   "metadata": {
    "collapsed": true
   },
   "outputs": [],
   "source": []
  }
 ],
 "metadata": {
  "anaconda-cloud": {},
  "kernelspec": {
   "display_name": "Python [conda env:py3k]",
   "language": "python",
   "name": "conda-env-py3k-py"
  },
  "language_info": {
   "codemirror_mode": {
    "name": "ipython",
    "version": 3
   },
   "file_extension": ".py",
   "mimetype": "text/x-python",
   "name": "python",
   "nbconvert_exporter": "python",
   "pygments_lexer": "ipython3",
   "version": "3.5.2"
  }
 },
 "nbformat": 4,
 "nbformat_minor": 0
}
