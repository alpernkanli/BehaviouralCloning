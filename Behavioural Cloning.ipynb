{
 "cells": [
  {
   "cell_type": "code",
   "execution_count": 1,
   "metadata": {
    "collapsed": false
   },
   "outputs": [],
   "source": [
    "import cv2\n",
    "import pandas as pd\n",
    "import numpy as np\n",
    "import json"
   ]
  },
  {
   "cell_type": "code",
   "execution_count": 2,
   "metadata": {
    "collapsed": false
   },
   "outputs": [
    {
     "name": "stderr",
     "output_type": "stream",
     "text": [
      "Using TensorFlow backend.\n"
     ]
    }
   ],
   "source": [
    "from keras.layers.core import Dense, Flatten, Dropout\n",
    "from keras.layers.convolutional import Convolution2D\n",
    "from keras.layers.pooling import MaxPooling2D\n",
    "from keras.layers.advanced_activations import ELU\n",
    "from keras.models import Sequential\n",
    "from keras.optimizers import Adam"
   ]
  },
  {
   "cell_type": "code",
   "execution_count": 3,
   "metadata": {
    "collapsed": true
   },
   "outputs": [],
   "source": [
    "log = pd.read_csv('./data/driving_log.csv')"
   ]
  },
  {
   "cell_type": "code",
   "execution_count": 4,
   "metadata": {
    "collapsed": false
   },
   "outputs": [],
   "source": [
    "rows, cols, ch = 64, 64, 3\n",
    "batch_size = 100\n",
    "epoch_range = 15\n",
    "split_size = 0.1\n",
    "samples_per_epoch = (20000 // batch_size) * batch_size\n",
    "angle_offset = 0.25"
   ]
  },
  {
   "cell_type": "code",
   "execution_count": 5,
   "metadata": {
    "collapsed": false
   },
   "outputs": [],
   "source": [
    "log = log.sample(frac=1).reset_index(drop=True)\n",
    "\n",
    "training_data = log.loc[0:(log.shape[0]*(1.0-split_size)) - 1]\n",
    "validation_data = log.loc[log.shape[0]*(1.0-split_size):]"
   ]
  },
  {
   "cell_type": "code",
   "execution_count": 6,
   "metadata": {
    "collapsed": false
   },
   "outputs": [],
   "source": [
    "def random_V(image, angle):\n",
    "    HSV_image = cv2.cvtColor(image, cv2.COLOR_RGB2HSV)\n",
    "    random_v = 0.25 + np.random.uniform()\n",
    "    HSV_image[:,:,2] = HSV_image[:,:,2]*random_v\n",
    "    image = cv2.cvtColor(image, cv2.COLOR_HSV2RGB)\n",
    "    return image, angle\n",
    "\n",
    "def random_H(image, angle):\n",
    "    HSV_image = cv2.cvtColor(image, cv2.COLOR_RGB2HSV)\n",
    "    random_h = 0.2 + np.random.uniform()\n",
    "    HSV_image[:,:,0] = HSV_image[:,:,0]*random_h\n",
    "    image = cv2.cvtColor(image, cv2.COLOR_HSV2RGB)\n",
    "    return image, angle\n",
    "\n",
    "def random_shift(image, angle):\n",
    "    x = 100*np.random.uniform() - 50\n",
    "    y = 40*np.random.uniform() - 20\n",
    "    m = np.float32([[1, 0, x], [0, 1, y]])\n",
    "    shifted_image = cv2.warpAffine(image, m, (64, 64))\n",
    "    angle = angle + x/250.0\n",
    "    return shifted_image, angle\n",
    "\n",
    "def angle_jitter(image, angle):\n",
    "    angle = angle + 0.05*(np.random.uniform() - 0.5)\n",
    "    return image, angle\n",
    "\n",
    "def random_flip(image, angle):\n",
    "    if np.random.random() > 0.5:\n",
    "        image = cv2.flip(image, 1)\n",
    "        angle = angle*(-1.0)\n",
    "    return image, angle"
   ]
  },
  {
   "cell_type": "code",
   "execution_count": 7,
   "metadata": {
    "collapsed": true
   },
   "outputs": [],
   "source": [
    "# 2 more image for every image.\n",
    "def augment_and_process(row):\n",
    "    angle = row['steering']\n",
    "    camera = np.random.choice(['center', 'left', 'right'])\n",
    "    \n",
    "    if camera == 'right':\n",
    "        angle -= angle_offset\n",
    "    elif camera == 'left':\n",
    "        angle += angle_offset\n",
    "    \n",
    "    path = row[camera]\n",
    "    datapath = './data/' + path\n",
    "    datapath = datapath.replace(\" \", \"\")\n",
    "    \n",
    "    image = cv2.imread(datapath)\n",
    "    image = image.astype(np.float32)\n",
    "    image = cv2.cvtColor(image, cv2.COLOR_BGR2RGB)\n",
    "    \n",
    "    image, angle = random_V(image, angle)\n",
    "    mage, angle = random_H(image, angle)\n",
    "    # image, angle = random_shift(image, angle)\n",
    "    image, angle = angle_jitter(image, angle)\n",
    "    image, angle = random_flip(image, angle)\n",
    "    \n",
    "    image = image[55:135, 0:320]\n",
    "    image = cv2.resize(image, (cols, rows))\n",
    "    image = image / 255.0 - 0.5\n",
    "    return image, angle"
   ]
  },
  {
   "cell_type": "code",
   "execution_count": 8,
   "metadata": {
    "collapsed": true
   },
   "outputs": [],
   "source": [
    "def batch_generator(data):\n",
    "    batch_count = data.shape[0] // batch_size\n",
    "    i = 0\n",
    "    while 1:\n",
    "        batch_features = np.zeros((batch_size, rows, cols, ch), dtype=np.float32)\n",
    "        batch_labels = np.zeros((batch_size,), dtype=np.float32)\n",
    "        \n",
    "        j = 0\n",
    "        for _, row in data.loc[i*batch_size: (i+1)*batch_size - 1].iterrows():\n",
    "            batch_features[j], batch_labels[j] = augment_and_process(row)\n",
    "            j += 1\n",
    "        \n",
    "        i += 1\n",
    "        if i == batch_count - 1:\n",
    "            i = 0\n",
    "        yield batch_features, batch_labels"
   ]
  },
  {
   "cell_type": "code",
   "execution_count": 9,
   "metadata": {
    "collapsed": false
   },
   "outputs": [],
   "source": [
    "def the_model():\n",
    "    model = Sequential()\n",
    "    \n",
    "    model.add(Convolution2D(32, 5, 5, subsample=(2, 2), border_mode='same', input_shape=(rows, cols, ch)))\n",
    "    model.add(ELU())\n",
    "    \n",
    "    model.add(Convolution2D(16, 3, 3, subsample=(1, 1), border_mode='valid'))\n",
    "    model.add(ELU())\n",
    "    model.add(Dropout(0.3))\n",
    "    model.add(MaxPooling2D((2, 2), border_mode='valid'))\n",
    "    \n",
    "    model.add(Convolution2D(16, 3, 3, subsample=(1, 1), border_mode='valid'))\n",
    "    model.add(ELU())\n",
    "    model.add(Dropout(0.4))\n",
    "    \n",
    "    model.add(Flatten())\n",
    "    model.add(Dense(1024, name='Dense0'))\n",
    "    model.add(Dropout(0.3))\n",
    "    model.add(ELU())\n",
    "    \n",
    "    model.add(Dense(512, name='Dense1'))\n",
    "    model.add(ELU())\n",
    "    \n",
    "    model.add(Dense(64, name='Dense2'))\n",
    "    model.add(ELU())\n",
    "    \n",
    "    model.add(Dense(1, name='Out'))\n",
    "    \n",
    "    model.compile(optimizer=\"adam\", loss=\"mse\")\n",
    "    return model"
   ]
  },
  {
   "cell_type": "code",
   "execution_count": null,
   "metadata": {
    "collapsed": true
   },
   "outputs": [],
   "source": [
    "def save_parameters(m, i):\n",
    "    m.save_weights('model' + str(i) + '.h5')\n",
    "    json_file = open('model' + str(i) + '.json', mode='w')\n",
    "    json.dump(m.to_json(), json_file)"
   ]
  },
  {
   "cell_type": "code",
   "execution_count": null,
   "metadata": {
    "collapsed": false
   },
   "outputs": [
    {
     "name": "stdout",
     "output_type": "stream",
     "text": [
      "Epoch 1/1\n",
      "19800/20000 [============================>.] - ETA: 1s - loss: 1.7139"
     ]
    }
   ],
   "source": [
    "model = the_model()\n",
    "for i in range(epoch_range):\n",
    "    model.fit_generator(batch_generator(training_data), \n",
    "                    samples_per_epoch= samples_per_epoch,\n",
    "                    nb_epoch=1,\n",
    "                    verbose=1,\n",
    "                    validation_data=batch_generator(validation_data),\n",
    "                    nb_val_samples=3000)\n",
    "    print(model.get_layer('Dense2').get_weights())\n",
    "    save_parameters(model, i)"
   ]
  },
  {
   "cell_type": "code",
   "execution_count": null,
   "metadata": {
    "collapsed": true
   },
   "outputs": [],
   "source": []
  }
 ],
 "metadata": {
  "anaconda-cloud": {},
  "kernelspec": {
   "display_name": "Python [conda env:py3k]",
   "language": "python",
   "name": "conda-env-py3k-py"
  },
  "language_info": {
   "codemirror_mode": {
    "name": "ipython",
    "version": 3
   },
   "file_extension": ".py",
   "mimetype": "text/x-python",
   "name": "python",
   "nbconvert_exporter": "python",
   "pygments_lexer": "ipython3",
   "version": "3.5.2"
  }
 },
 "nbformat": 4,
 "nbformat_minor": 0
}
