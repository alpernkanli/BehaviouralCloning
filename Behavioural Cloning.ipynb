{
 "cells": [
  {
   "cell_type": "code",
   "execution_count": 1,
   "metadata": {
    "collapsed": false
   },
   "outputs": [],
   "source": [
    "import cv2\n",
    "import pandas as pd\n",
    "import numpy as np\n",
    "from tqdm import tqdm\n",
    "import pickle\n",
    "import json"
   ]
  },
  {
   "cell_type": "code",
   "execution_count": 2,
   "metadata": {
    "collapsed": false
   },
   "outputs": [
    {
     "name": "stderr",
     "output_type": "stream",
     "text": [
      "Using TensorFlow backend.\n"
     ]
    }
   ],
   "source": [
    "from keras.layers.core import Dense, Activation, Flatten, Reshape\n",
    "from keras.layers.convolutional import Convolution2D\n",
    "from keras.layers.pooling import MaxPooling2D\n",
    "from keras.models import Sequential\n",
    "from keras.layers.normalization import BatchNormalization\n",
    "from keras.preprocessing.image import ImageDataGenerator"
   ]
  },
  {
   "cell_type": "code",
   "execution_count": 3,
   "metadata": {
    "collapsed": false
   },
   "outputs": [],
   "source": [
    "def the_model():\n",
    "    model = Sequential()\n",
    "    model.add(Convolution2D(24, 5, 5, border_mode='same', input_shape=(160, 320, 3)))\n",
    "    model.add(MaxPooling2D(pool_size=(2, 2)))\n",
    "    model.add(Activation(activation='relu'))\n",
    "    model.add(Convolution2D(36, 5, 5, border_mode='same'))\n",
    "    model.add(MaxPooling2D(pool_size=(2, 2)))\n",
    "    model.add(Activation(activation='relu'))\n",
    "    model.add(Convolution2D(48, 5, 5, border_mode='same'))\n",
    "    model.add(MaxPooling2D(pool_size=(2, 2)))\n",
    "    model.add(Activation(activation='relu'))\n",
    "    model.add(Convolution2D(64, 3, 3, border_mode='same'))\n",
    "    model.add(MaxPooling2D(pool_size=(2, 2)))\n",
    "    model.add(Activation(activation='relu'))\n",
    "    model.add(Convolution2D(64, 3, 3, border_mode='same'))\n",
    "    model.add(Flatten())\n",
    "    model.add(Activation(activation='relu'))\n",
    "    model.add(Dense(1164, name='Dense1'))\n",
    "    model.add(Activation(activation='relu'))\n",
    "    model.add(Dense(100, name='Dense2'))\n",
    "    model.add(Activation(activation='relu'))\n",
    "    model.add(Dense(50, name='Dense3'))\n",
    "    model.add(Activation(activation='relu'))\n",
    "    model.add(Dense(10, name='Dense4'))\n",
    "    model.add(Activation(activation='relu'))\n",
    "    model.add(Dense(1, name='out1'))\n",
    "\n",
    "    return model"
   ]
  },
  {
   "cell_type": "code",
   "execution_count": 4,
   "metadata": {
    "collapsed": false
   },
   "outputs": [],
   "source": [
    "def the_simpler_model():\n",
    "    model = Sequential()\n",
    "    model.add(Flatten(input_shape=(160, 320, 3)))\n",
    "    model.add(Dense(1000))\n",
    "    model.add(Activation(activation='relu'))\n",
    "    model.add(Dense(500))\n",
    "    model.add(Activation(activation='relu'))\n",
    "    model.add(Dense(100))\n",
    "    model.add(Activation(activation='relu'))\n",
    "    model.add(Dense(10))\n",
    "    model.add(Activation(activation='relu'))\n",
    "    model.add(Dense((10, 1)))\n",
    "    \n",
    "    return model"
   ]
  },
  {
   "cell_type": "code",
   "execution_count": 5,
   "metadata": {
    "collapsed": true
   },
   "outputs": [],
   "source": [
    "def save_parameters(model):\n",
    "    model.save_weights('model.h5')\n",
    "    json_file = open('model.json', mode='w')\n",
    "    json.dump(model.to_json(), json_file)"
   ]
  },
  {
   "cell_type": "code",
   "execution_count": null,
   "metadata": {
    "collapsed": false
   },
   "outputs": [],
   "source": [
    "log = pd.read_csv('./data/driving_log.csv')\n",
    "\n",
    "_X_train = log['center']\n",
    "y_train = log['steering']\n",
    "del log\n",
    "from sklearn.model_selection import train_test_split\n",
    "X_train, X_test, y_train, y_test = train_test_split(_X_train, y_train, test_size=0.1)\n",
    "\n",
    "def generator(X, Y):\n",
    "    while 1:\n",
    "        for (x, y) in zip(X, Y):\n",
    "            path, angle = (x, y)\n",
    "            angle = np.reshape(angle, [1])\n",
    "            image = cv2.imread('./data/' + path)\n",
    "            image = np.reshape(image, (1, 160, 320, 3))\n",
    "            yield image, angle"
   ]
  },
  {
   "cell_type": "code",
   "execution_count": 7,
   "metadata": {
    "collapsed": true
   },
   "outputs": [],
   "source": [
    "batches = 250\n",
    "epochs = 500"
   ]
  },
  {
   "cell_type": "code",
   "execution_count": null,
   "metadata": {
    "collapsed": false
   },
   "outputs": [
    {
     "name": "stdout",
     "output_type": "stream",
     "text": [
      "(7232,)\n",
      "Epoch 1/500\n",
      " 233/7232 [..............................] - ETA: 378s - loss: 0.0435 - acc: 0.4850"
     ]
    }
   ],
   "source": [
    "model = the_model()\n",
    "model.compile(optimizer='adam', loss='mse', metrics=['accuracy'])\n",
    "print(y_train.shape)\n",
    "model.fit_generator(generator(X_train, y_train), \n",
    "                    samples_per_epoch= X_train.shape[0],\n",
    "                    nb_epoch=epochs,\n",
    "                    verbose=1,\n",
    "                    validation_data=generator(X_test, y_test),\n",
    "                    nb_val_samples=X_test.shape[0])\n",
    "\n",
    "save_parameters(model)"
   ]
  },
  {
   "cell_type": "code",
   "execution_count": 248,
   "metadata": {
    "collapsed": false
   },
   "outputs": [
    {
     "ename": "NameError",
     "evalue": "name 'X_valid' is not defined",
     "output_type": "error",
     "traceback": [
      "\u001b[0;31m---------------------------------------------------------------------------\u001b[0m",
      "\u001b[0;31mNameError\u001b[0m                                 Traceback (most recent call last)",
      "\u001b[0;32m<ipython-input-248-8aaaf079062c>\u001b[0m in \u001b[0;36m<module>\u001b[0;34m()\u001b[0m\n\u001b[0;32m----> 1\u001b[0;31m \u001b[0mmodel\u001b[0m\u001b[0;34m.\u001b[0m\u001b[0mevaluate\u001b[0m\u001b[0;34m(\u001b[0m\u001b[0mX_valid\u001b[0m\u001b[0;34m,\u001b[0m \u001b[0my_valid\u001b[0m\u001b[0;34m,\u001b[0m \u001b[0mbatch_size\u001b[0m\u001b[0;34m=\u001b[0m\u001b[0;36m32\u001b[0m\u001b[0;34m,\u001b[0m \u001b[0mverbose\u001b[0m\u001b[0;34m=\u001b[0m\u001b[0;36m2\u001b[0m\u001b[0;34m)\u001b[0m\u001b[0;34m\u001b[0m\u001b[0m\n\u001b[0m",
      "\u001b[0;31mNameError\u001b[0m: name 'X_valid' is not defined"
     ]
    }
   ],
   "source": [
    "model.evaluate(X_valid, y_valid, batch_size=32, verbose=2)"
   ]
  },
  {
   "cell_type": "code",
   "execution_count": 31,
   "metadata": {
    "collapsed": false
   },
   "outputs": [
    {
     "name": "stdout",
     "output_type": "stream",
     "text": [
      "['loss']\n"
     ]
    }
   ],
   "source": []
  },
  {
   "cell_type": "code",
   "execution_count": null,
   "metadata": {
    "collapsed": true
   },
   "outputs": [],
   "source": []
  }
 ],
 "metadata": {
  "anaconda-cloud": {},
  "kernelspec": {
   "display_name": "Python [conda env:py3k]",
   "language": "python",
   "name": "conda-env-py3k-py"
  },
  "language_info": {
   "codemirror_mode": {
    "name": "ipython",
    "version": 3
   },
   "file_extension": ".py",
   "mimetype": "text/x-python",
   "name": "python",
   "nbconvert_exporter": "python",
   "pygments_lexer": "ipython3",
   "version": "3.5.2"
  }
 },
 "nbformat": 4,
 "nbformat_minor": 0
}
